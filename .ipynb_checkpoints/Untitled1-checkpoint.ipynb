{
 "cells": [
  {
   "cell_type": "markdown",
   "metadata": {},
   "source": [
    "---\n",
    "=\n",
    "#Dsd\n",
    "ls"
   ]
  },
  {
   "cell_type": "raw",
   "metadata": {},
   "source": [
    "[I 2021-01-02 17:58:48.260 ServerApp] jupyterlab | extension was successfully linked.\n",
    "[I 2021-01-02 17:58:48.636 ServerApp] nbclassic | extension was successfully linked.\n",
    "[I 2021-01-02 17:58:48.702 LabApp] JupyterLab extension loaded from c:\\python38\\lib\\site-packages\\jupyterlab\n",
    "[I 2021-01-02 17:58:48.703 LabApp] JupyterLab application directory is c:\\python38\\share\\jupyter\\lab\n",
    "[I 2021-01-02 17:58:48.706 ServerApp] jupyterlab | extension was successfully loaded.\n",
    "[I 2021-01-02 17:58:48.714 ServerApp] nbclassic | extension was successfully loaded.\n",
    "[I 2021-01-02 17:58:48.715 ServerApp] Serv"
   ]
  },
  {
   "cell_type": "code",
   "execution_count": null,
   "metadata": {},
   "outputs": [],
   "source": []
  }
 ],
 "metadata": {
  "kernelspec": {
   "display_name": "Python 3",
   "language": "python",
   "name": "python3"
  },
  "language_info": {
   "codemirror_mode": {
    "name": "ipython",
    "version": 3
   },
   "file_extension": ".py",
   "mimetype": "text/x-python",
   "name": "python",
   "nbconvert_exporter": "python",
   "pygments_lexer": "ipython3",
   "version": "3.8.2"
  }
 },
 "nbformat": 4,
 "nbformat_minor": 4
}
